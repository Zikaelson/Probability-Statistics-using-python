{
 "cells": [
  {
   "cell_type": "markdown",
   "id": "8c239e16",
   "metadata": {},
   "source": [
    "# NAME: JOAQUIM OLAOLUWA EZEKIEL\n",
    "\n",
    "# COURSE : STATISTICS AND PROBABILITY\n",
    "\n",
    "# COURSE FACILITATOR: Femin Yalcin"
   ]
  },
  {
   "cell_type": "markdown",
   "id": "eaa2e8bf",
   "metadata": {},
   "source": [
    "\n",
    "\n",
    "\n",
    "\n",
    "\n",
    "## PROBABILITY AND STATISTICS ANALYSIS USING (USA_HOUSING DATASET & LOAN DATASET)"
   ]
  },
  {
   "cell_type": "code",
   "execution_count": 1,
   "id": "89bd10e1",
   "metadata": {},
   "outputs": [],
   "source": [
    "# Loading the libraries and data\n",
    "\n",
    "import pandas as pd\n",
    "import numpy as np\n",
    "import matplotlib.pyplot as plt\n",
    "import seaborn as sns\n",
    "import math\n",
    "import statistics\n",
    "import scipy.stats\n",
    "%matplotlib inline"
   ]
  },
  {
   "cell_type": "code",
   "execution_count": 2,
   "id": "f3a01246",
   "metadata": {},
   "outputs": [
    {
     "name": "stdout",
     "output_type": "stream",
     "text": [
      "(5000, 7)\n",
      "\n",
      "\n"
     ]
    },
    {
     "data": {
      "text/html": [
       "<div>\n",
       "<style scoped>\n",
       "    .dataframe tbody tr th:only-of-type {\n",
       "        vertical-align: middle;\n",
       "    }\n",
       "\n",
       "    .dataframe tbody tr th {\n",
       "        vertical-align: top;\n",
       "    }\n",
       "\n",
       "    .dataframe thead th {\n",
       "        text-align: right;\n",
       "    }\n",
       "</style>\n",
       "<table border=\"1\" class=\"dataframe\">\n",
       "  <thead>\n",
       "    <tr style=\"text-align: right;\">\n",
       "      <th></th>\n",
       "      <th>Avg. Area Income</th>\n",
       "      <th>Avg. Area House Age</th>\n",
       "      <th>Avg. Area Number of Rooms</th>\n",
       "      <th>Avg. Area Number of Bedrooms</th>\n",
       "      <th>Area Population</th>\n",
       "      <th>Price</th>\n",
       "      <th>Address</th>\n",
       "    </tr>\n",
       "  </thead>\n",
       "  <tbody>\n",
       "    <tr>\n",
       "      <th>0</th>\n",
       "      <td>79545.458574</td>\n",
       "      <td>5.682861</td>\n",
       "      <td>7.009188</td>\n",
       "      <td>4.09</td>\n",
       "      <td>23086.800503</td>\n",
       "      <td>1.059034e+06</td>\n",
       "      <td>208 Michael Ferry Apt. 674\\nLaurabury, NE 3701...</td>\n",
       "    </tr>\n",
       "    <tr>\n",
       "      <th>1</th>\n",
       "      <td>79248.642455</td>\n",
       "      <td>6.002900</td>\n",
       "      <td>6.730821</td>\n",
       "      <td>3.09</td>\n",
       "      <td>40173.072174</td>\n",
       "      <td>1.505891e+06</td>\n",
       "      <td>188 Johnson Views Suite 079\\nLake Kathleen, CA...</td>\n",
       "    </tr>\n",
       "    <tr>\n",
       "      <th>2</th>\n",
       "      <td>61287.067179</td>\n",
       "      <td>5.865890</td>\n",
       "      <td>8.512727</td>\n",
       "      <td>5.13</td>\n",
       "      <td>36882.159400</td>\n",
       "      <td>1.058988e+06</td>\n",
       "      <td>9127 Elizabeth Stravenue\\nDanieltown, WI 06482...</td>\n",
       "    </tr>\n",
       "    <tr>\n",
       "      <th>3</th>\n",
       "      <td>63345.240046</td>\n",
       "      <td>7.188236</td>\n",
       "      <td>5.586729</td>\n",
       "      <td>3.26</td>\n",
       "      <td>34310.242831</td>\n",
       "      <td>1.260617e+06</td>\n",
       "      <td>USS Barnett\\nFPO AP 44820</td>\n",
       "    </tr>\n",
       "    <tr>\n",
       "      <th>4</th>\n",
       "      <td>59982.197226</td>\n",
       "      <td>5.040555</td>\n",
       "      <td>7.839388</td>\n",
       "      <td>4.23</td>\n",
       "      <td>26354.109472</td>\n",
       "      <td>6.309435e+05</td>\n",
       "      <td>USNS Raymond\\nFPO AE 09386</td>\n",
       "    </tr>\n",
       "  </tbody>\n",
       "</table>\n",
       "</div>"
      ],
      "text/plain": [
       "   Avg. Area Income  Avg. Area House Age  Avg. Area Number of Rooms  \\\n",
       "0      79545.458574             5.682861                   7.009188   \n",
       "1      79248.642455             6.002900                   6.730821   \n",
       "2      61287.067179             5.865890                   8.512727   \n",
       "3      63345.240046             7.188236                   5.586729   \n",
       "4      59982.197226             5.040555                   7.839388   \n",
       "\n",
       "   Avg. Area Number of Bedrooms  Area Population         Price  \\\n",
       "0                          4.09     23086.800503  1.059034e+06   \n",
       "1                          3.09     40173.072174  1.505891e+06   \n",
       "2                          5.13     36882.159400  1.058988e+06   \n",
       "3                          3.26     34310.242831  1.260617e+06   \n",
       "4                          4.23     26354.109472  6.309435e+05   \n",
       "\n",
       "                                             Address  \n",
       "0  208 Michael Ferry Apt. 674\\nLaurabury, NE 3701...  \n",
       "1  188 Johnson Views Suite 079\\nLake Kathleen, CA...  \n",
       "2  9127 Elizabeth Stravenue\\nDanieltown, WI 06482...  \n",
       "3                          USS Barnett\\nFPO AP 44820  \n",
       "4                         USNS Raymond\\nFPO AE 09386  "
      ]
     },
     "execution_count": 2,
     "metadata": {},
     "output_type": "execute_result"
    }
   ],
   "source": [
    "# read dataset\n",
    "\n",
    "df = pd.read_csv('USA_Housing.csv')\n",
    "print(df.shape)\n",
    "print('\\n')\n",
    "df.head()"
   ]
  },
  {
   "cell_type": "code",
   "execution_count": 3,
   "id": "a85576af",
   "metadata": {},
   "outputs": [],
   "source": [
    "# renaming columns of data\n",
    "df.rename({'Avg. Area Income': 'AAI',\n",
    "          'Avg. Area House Age': 'AAHA',\n",
    "           'Avg. Area Number of Rooms': 'AANR',\n",
    "           'Avg. Area Number of Bedrooms' : 'AANB',\n",
    "           'Area Population': 'AP'}, axis=1, inplace=True)"
   ]
  },
  {
   "cell_type": "code",
   "execution_count": 4,
   "id": "1dbc98fb",
   "metadata": {},
   "outputs": [
    {
     "data": {
      "text/html": [
       "<div>\n",
       "<style scoped>\n",
       "    .dataframe tbody tr th:only-of-type {\n",
       "        vertical-align: middle;\n",
       "    }\n",
       "\n",
       "    .dataframe tbody tr th {\n",
       "        vertical-align: top;\n",
       "    }\n",
       "\n",
       "    .dataframe thead th {\n",
       "        text-align: right;\n",
       "    }\n",
       "</style>\n",
       "<table border=\"1\" class=\"dataframe\">\n",
       "  <thead>\n",
       "    <tr style=\"text-align: right;\">\n",
       "      <th></th>\n",
       "      <th>AAI</th>\n",
       "      <th>AAHA</th>\n",
       "      <th>AANR</th>\n",
       "      <th>AANB</th>\n",
       "      <th>AP</th>\n",
       "      <th>Price</th>\n",
       "      <th>Address</th>\n",
       "    </tr>\n",
       "  </thead>\n",
       "  <tbody>\n",
       "    <tr>\n",
       "      <th>0</th>\n",
       "      <td>79545.458574</td>\n",
       "      <td>5.682861</td>\n",
       "      <td>7.009188</td>\n",
       "      <td>4.09</td>\n",
       "      <td>23086.800503</td>\n",
       "      <td>1.059034e+06</td>\n",
       "      <td>208 Michael Ferry Apt. 674\\nLaurabury, NE 3701...</td>\n",
       "    </tr>\n",
       "    <tr>\n",
       "      <th>1</th>\n",
       "      <td>79248.642455</td>\n",
       "      <td>6.002900</td>\n",
       "      <td>6.730821</td>\n",
       "      <td>3.09</td>\n",
       "      <td>40173.072174</td>\n",
       "      <td>1.505891e+06</td>\n",
       "      <td>188 Johnson Views Suite 079\\nLake Kathleen, CA...</td>\n",
       "    </tr>\n",
       "    <tr>\n",
       "      <th>2</th>\n",
       "      <td>61287.067179</td>\n",
       "      <td>5.865890</td>\n",
       "      <td>8.512727</td>\n",
       "      <td>5.13</td>\n",
       "      <td>36882.159400</td>\n",
       "      <td>1.058988e+06</td>\n",
       "      <td>9127 Elizabeth Stravenue\\nDanieltown, WI 06482...</td>\n",
       "    </tr>\n",
       "    <tr>\n",
       "      <th>3</th>\n",
       "      <td>63345.240046</td>\n",
       "      <td>7.188236</td>\n",
       "      <td>5.586729</td>\n",
       "      <td>3.26</td>\n",
       "      <td>34310.242831</td>\n",
       "      <td>1.260617e+06</td>\n",
       "      <td>USS Barnett\\nFPO AP 44820</td>\n",
       "    </tr>\n",
       "    <tr>\n",
       "      <th>4</th>\n",
       "      <td>59982.197226</td>\n",
       "      <td>5.040555</td>\n",
       "      <td>7.839388</td>\n",
       "      <td>4.23</td>\n",
       "      <td>26354.109472</td>\n",
       "      <td>6.309435e+05</td>\n",
       "      <td>USNS Raymond\\nFPO AE 09386</td>\n",
       "    </tr>\n",
       "  </tbody>\n",
       "</table>\n",
       "</div>"
      ],
      "text/plain": [
       "            AAI      AAHA      AANR  AANB            AP         Price  \\\n",
       "0  79545.458574  5.682861  7.009188  4.09  23086.800503  1.059034e+06   \n",
       "1  79248.642455  6.002900  6.730821  3.09  40173.072174  1.505891e+06   \n",
       "2  61287.067179  5.865890  8.512727  5.13  36882.159400  1.058988e+06   \n",
       "3  63345.240046  7.188236  5.586729  3.26  34310.242831  1.260617e+06   \n",
       "4  59982.197226  5.040555  7.839388  4.23  26354.109472  6.309435e+05   \n",
       "\n",
       "                                             Address  \n",
       "0  208 Michael Ferry Apt. 674\\nLaurabury, NE 3701...  \n",
       "1  188 Johnson Views Suite 079\\nLake Kathleen, CA...  \n",
       "2  9127 Elizabeth Stravenue\\nDanieltown, WI 06482...  \n",
       "3                          USS Barnett\\nFPO AP 44820  \n",
       "4                         USNS Raymond\\nFPO AE 09386  "
      ]
     },
     "execution_count": 4,
     "metadata": {},
     "output_type": "execute_result"
    }
   ],
   "source": [
    "df.head()"
   ]
  },
  {
   "cell_type": "markdown",
   "id": "2ad07ead",
   "metadata": {},
   "source": [
    "# STATISTICS"
   ]
  },
  {
   "cell_type": "code",
   "execution_count": 5,
   "id": "53f13acd",
   "metadata": {},
   "outputs": [],
   "source": [
    "# randomize the dataset by selecting sample from the dataset\n",
    "\n",
    "df = df.sample(frac=1)"
   ]
  },
  {
   "cell_type": "code",
   "execution_count": 6,
   "id": "eaf3cea1",
   "metadata": {},
   "outputs": [
    {
     "data": {
      "text/html": [
       "<div>\n",
       "<style scoped>\n",
       "    .dataframe tbody tr th:only-of-type {\n",
       "        vertical-align: middle;\n",
       "    }\n",
       "\n",
       "    .dataframe tbody tr th {\n",
       "        vertical-align: top;\n",
       "    }\n",
       "\n",
       "    .dataframe thead th {\n",
       "        text-align: right;\n",
       "    }\n",
       "</style>\n",
       "<table border=\"1\" class=\"dataframe\">\n",
       "  <thead>\n",
       "    <tr style=\"text-align: right;\">\n",
       "      <th></th>\n",
       "      <th>AAI</th>\n",
       "      <th>AAHA</th>\n",
       "      <th>AANR</th>\n",
       "      <th>AANB</th>\n",
       "      <th>AP</th>\n",
       "      <th>Price</th>\n",
       "      <th>Address</th>\n",
       "    </tr>\n",
       "  </thead>\n",
       "  <tbody>\n",
       "    <tr>\n",
       "      <th>4915</th>\n",
       "      <td>80256.981187</td>\n",
       "      <td>6.411222</td>\n",
       "      <td>5.279549</td>\n",
       "      <td>2.39</td>\n",
       "      <td>40240.579317</td>\n",
       "      <td>1.232993e+06</td>\n",
       "      <td>91627 Robert Shoal Suite 118\\nSharonport, DE 9...</td>\n",
       "    </tr>\n",
       "    <tr>\n",
       "      <th>809</th>\n",
       "      <td>66556.387650</td>\n",
       "      <td>6.321891</td>\n",
       "      <td>8.369451</td>\n",
       "      <td>4.21</td>\n",
       "      <td>45325.655862</td>\n",
       "      <td>1.780415e+06</td>\n",
       "      <td>7287 Mullen Burg Apt. 284\\nHousetown, VA 71506...</td>\n",
       "    </tr>\n",
       "    <tr>\n",
       "      <th>2470</th>\n",
       "      <td>89286.083249</td>\n",
       "      <td>5.407139</td>\n",
       "      <td>6.797126</td>\n",
       "      <td>2.45</td>\n",
       "      <td>26176.766149</td>\n",
       "      <td>1.340910e+06</td>\n",
       "      <td>8654 Benjamin Harbors Suite 759\\nSouth Jennife...</td>\n",
       "    </tr>\n",
       "    <tr>\n",
       "      <th>3062</th>\n",
       "      <td>66854.387624</td>\n",
       "      <td>5.016487</td>\n",
       "      <td>6.652221</td>\n",
       "      <td>4.16</td>\n",
       "      <td>41382.725896</td>\n",
       "      <td>1.210161e+06</td>\n",
       "      <td>USNV Bowers\\nFPO AE 55109</td>\n",
       "    </tr>\n",
       "    <tr>\n",
       "      <th>838</th>\n",
       "      <td>62571.352863</td>\n",
       "      <td>5.945194</td>\n",
       "      <td>7.176353</td>\n",
       "      <td>4.37</td>\n",
       "      <td>41465.115631</td>\n",
       "      <td>1.161996e+06</td>\n",
       "      <td>86533 Gould Hills\\nGarciachester, DE 09135-4735</td>\n",
       "    </tr>\n",
       "  </tbody>\n",
       "</table>\n",
       "</div>"
      ],
      "text/plain": [
       "               AAI      AAHA      AANR  AANB            AP         Price  \\\n",
       "4915  80256.981187  6.411222  5.279549  2.39  40240.579317  1.232993e+06   \n",
       "809   66556.387650  6.321891  8.369451  4.21  45325.655862  1.780415e+06   \n",
       "2470  89286.083249  5.407139  6.797126  2.45  26176.766149  1.340910e+06   \n",
       "3062  66854.387624  5.016487  6.652221  4.16  41382.725896  1.210161e+06   \n",
       "838   62571.352863  5.945194  7.176353  4.37  41465.115631  1.161996e+06   \n",
       "\n",
       "                                                Address  \n",
       "4915  91627 Robert Shoal Suite 118\\nSharonport, DE 9...  \n",
       "809   7287 Mullen Burg Apt. 284\\nHousetown, VA 71506...  \n",
       "2470  8654 Benjamin Harbors Suite 759\\nSouth Jennife...  \n",
       "3062                          USNV Bowers\\nFPO AE 55109  \n",
       "838     86533 Gould Hills\\nGarciachester, DE 09135-4735  "
      ]
     },
     "execution_count": 6,
     "metadata": {},
     "output_type": "execute_result"
    }
   ],
   "source": [
    "df.head()"
   ]
  },
  {
   "cell_type": "markdown",
   "id": "e4947bd8",
   "metadata": {},
   "source": [
    "### CORRELATION"
   ]
  },
  {
   "cell_type": "code",
   "execution_count": 7,
   "id": "717b0824",
   "metadata": {
    "scrolled": true
   },
   "outputs": [
    {
     "data": {
      "text/plain": [
       "<AxesSubplot:>"
      ]
     },
     "execution_count": 7,
     "metadata": {},
     "output_type": "execute_result"
    },
    {
     "data": {
      "image/png": "[encoded data removed]",
      "text/plain": [
       "<Figure size 720x432 with 2 Axes>"
      ]
     },
     "metadata": {
      "needs_background": "light"
     },
     "output_type": "display_data"
    }
   ],
   "source": [
    "# correlation plot\n",
    "plt.figure(figsize=(10,6))\n",
    "sns.heatmap(df.corr(), annot=True)"
   ]
  },
  {
   "cell_type": "markdown",
   "id": "251d40c0",
   "metadata": {},
   "source": [
    "From the Correlation analysis, it was discovered that Average Area Income is highly correlated with Price and there exist of positive correlation of 0.64. \n"
   ]
  },
  {
   "cell_type": "markdown",
   "id": "bfd65d31",
   "metadata": {},
   "source": [
    "## MEASURES OF LOCATION"
   ]
  },
  {
   "cell_type": "markdown",
   "id": "d2d5554b",
   "metadata": {},
   "source": [
    "### MEAN"
   ]
  },
  {
   "cell_type": "markdown",
   "id": "a1dc9458",
   "metadata": {},
   "source": [
    "For the mean average,\n",
    "\n",
    "\tAverage Area Income has an average of #68,583\n",
    "    \n",
    "\tAverage Area House Age has an average of  6\n",
    "    \n",
    "\t Average Area number of rooms  has an average of 7"
   ]
  },
  {
   "cell_type": "code",
   "execution_count": 9,
   "id": "b3d605e1",
   "metadata": {},
   "outputs": [
    {
     "data": {
      "text/html": [
       "<div>\n",
       "<style scoped>\n",
       "    .dataframe tbody tr th:only-of-type {\n",
       "        vertical-align: middle;\n",
       "    }\n",
       "\n",
       "    .dataframe tbody tr th {\n",
       "        vertical-align: top;\n",
       "    }\n",
       "\n",
       "    .dataframe thead th {\n",
       "        text-align: right;\n",
       "    }\n",
       "</style>\n",
       "<table border=\"1\" class=\"dataframe\">\n",
       "  <thead>\n",
       "    <tr style=\"text-align: right;\">\n",
       "      <th></th>\n",
       "      <th>count</th>\n",
       "      <th>mean</th>\n",
       "      <th>std</th>\n",
       "      <th>min</th>\n",
       "      <th>25%</th>\n",
       "      <th>50%</th>\n",
       "      <th>75%</th>\n",
       "      <th>max</th>\n",
       "    </tr>\n",
       "  </thead>\n",
       "  <tbody>\n",
       "    <tr>\n",
       "      <th>AAI</th>\n",
       "      <td>5000.0</td>\n",
       "      <td>6.858311e+04</td>\n",
       "      <td>10657.991214</td>\n",
       "      <td>17796.631190</td>\n",
       "      <td>61480.562388</td>\n",
       "      <td>6.880429e+04</td>\n",
       "      <td>7.578334e+04</td>\n",
       "      <td>1.077017e+05</td>\n",
       "    </tr>\n",
       "    <tr>\n",
       "      <th>AAHA</th>\n",
       "      <td>5000.0</td>\n",
       "      <td>5.977222e+00</td>\n",
       "      <td>0.991456</td>\n",
       "      <td>2.644304</td>\n",
       "      <td>5.322283</td>\n",
       "      <td>5.970429e+00</td>\n",
       "      <td>6.650808e+00</td>\n",
       "      <td>9.519088e+00</td>\n",
       "    </tr>\n",
       "    <tr>\n",
       "      <th>AANR</th>\n",
       "      <td>5000.0</td>\n",
       "      <td>6.987792e+00</td>\n",
       "      <td>1.005833</td>\n",
       "      <td>3.236194</td>\n",
       "      <td>6.299250</td>\n",
       "      <td>7.002902e+00</td>\n",
       "      <td>7.665871e+00</td>\n",
       "      <td>1.075959e+01</td>\n",
       "    </tr>\n",
       "    <tr>\n",
       "      <th>AANB</th>\n",
       "      <td>5000.0</td>\n",
       "      <td>3.981330e+00</td>\n",
       "      <td>1.234137</td>\n",
       "      <td>2.000000</td>\n",
       "      <td>3.140000</td>\n",
       "      <td>4.050000e+00</td>\n",
       "      <td>4.490000e+00</td>\n",
       "      <td>6.500000e+00</td>\n",
       "    </tr>\n",
       "    <tr>\n",
       "      <th>AP</th>\n",
       "      <td>5000.0</td>\n",
       "      <td>3.616352e+04</td>\n",
       "      <td>9925.650114</td>\n",
       "      <td>172.610686</td>\n",
       "      <td>29403.928702</td>\n",
       "      <td>3.619941e+04</td>\n",
       "      <td>4.286129e+04</td>\n",
       "      <td>6.962171e+04</td>\n",
       "    </tr>\n",
       "    <tr>\n",
       "      <th>Price</th>\n",
       "      <td>5000.0</td>\n",
       "      <td>1.232073e+06</td>\n",
       "      <td>353117.626581</td>\n",
       "      <td>15938.657923</td>\n",
       "      <td>997577.135049</td>\n",
       "      <td>1.232669e+06</td>\n",
       "      <td>1.471210e+06</td>\n",
       "      <td>2.469066e+06</td>\n",
       "    </tr>\n",
       "  </tbody>\n",
       "</table>\n",
       "</div>"
      ],
      "text/plain": [
       "        count          mean            std           min            25%  \\\n",
       "AAI    5000.0  6.858311e+04   10657.991214  17796.631190   61480.562388   \n",
       "AAHA   5000.0  5.977222e+00       0.991456      2.644304       5.322283   \n",
       "AANR   5000.0  6.987792e+00       1.005833      3.236194       6.299250   \n",
       "AANB   5000.0  3.981330e+00       1.234137      2.000000       3.140000   \n",
       "AP     5000.0  3.616352e+04    9925.650114    172.610686   29403.928702   \n",
       "Price  5000.0  1.232073e+06  353117.626581  15938.657923  997577.135049   \n",
       "\n",
       "                50%           75%           max  \n",
       "AAI    6.880429e+04  7.578334e+04  1.077017e+05  \n",
       "AAHA   5.970429e+00  6.650808e+00  9.519088e+00  \n",
       "AANR   7.002902e+00  7.665871e+00  1.075959e+01  \n",
       "AANB   4.050000e+00  4.490000e+00  6.500000e+00  \n",
       "AP     3.619941e+04  4.286129e+04  6.962171e+04  \n",
       "Price  1.232669e+06  1.471210e+06  2.469066e+06  "
      ]
     },
     "execution_count": 9,
     "metadata": {},
     "output_type": "execute_result"
    }
   ],
   "source": [
    "#describing the dataset\n",
    "\n",
    "df.describe().T"
   ]
  },
  {
   "cell_type": "code",
   "execution_count": 10,
   "id": "e3dc124b",
   "metadata": {},
   "outputs": [
    {
     "data": {
      "text/plain": [
       "68583.10898395986"
      ]
     },
     "execution_count": 10,
     "metadata": {},
     "output_type": "execute_result"
    }
   ],
   "source": [
    "# Taking the mean for Average Area Income\n",
    "df[\"AAI\"].mean()"
   ]
  },
  {
   "cell_type": "code",
   "execution_count": 11,
   "id": "5f7570d8",
   "metadata": {},
   "outputs": [
    {
     "data": {
      "text/plain": [
       "5.9772220352802785"
      ]
     },
     "execution_count": 11,
     "metadata": {},
     "output_type": "execute_result"
    }
   ],
   "source": [
    "# Taking the mean for Avg. Area House Age\n",
    "df[\"AAHA\"].mean()"
   ]
  },
  {
   "cell_type": "code",
   "execution_count": 12,
   "id": "3ec44fe3",
   "metadata": {},
   "outputs": [
    {
     "data": {
      "text/plain": [
       "6.9877918509079215"
      ]
     },
     "execution_count": 12,
     "metadata": {},
     "output_type": "execute_result"
    }
   ],
   "source": [
    "# Taking the mean for Avg. Area Number of Rooms\n",
    "df[\"AANR\"].mean()"
   ]
  },
  {
   "cell_type": "code",
   "execution_count": 13,
   "id": "86d22a78",
   "metadata": {},
   "outputs": [
    {
     "data": {
      "text/plain": [
       "3.9813300000000083"
      ]
     },
     "execution_count": 13,
     "metadata": {},
     "output_type": "execute_result"
    }
   ],
   "source": [
    "# Taking the mean for Avg. Area Number of Bedrooms\n",
    "df[\"AANB\"].mean()"
   ]
  },
  {
   "cell_type": "code",
   "execution_count": 14,
   "id": "5fe257fa",
   "metadata": {},
   "outputs": [
    {
     "data": {
      "text/plain": [
       "36163.516038574664"
      ]
     },
     "execution_count": 14,
     "metadata": {},
     "output_type": "execute_result"
    }
   ],
   "source": [
    "# Taking the mean for Area Population\n",
    "df[\"AP\"].mean()"
   ]
  },
  {
   "cell_type": "code",
   "execution_count": 15,
   "id": "f883f290",
   "metadata": {},
   "outputs": [
    {
     "data": {
      "text/plain": [
       "1232072.6541423576"
      ]
     },
     "execution_count": 15,
     "metadata": {},
     "output_type": "execute_result"
    }
   ],
   "source": [
    "# Taking the mean for Price\n",
    "df[\"Price\"].mean()"
   ]
  },
  {
   "cell_type": "markdown",
   "id": "4e81e99e",
   "metadata": {},
   "source": [
    "### MEDIAN"
   ]
  },
  {
   "cell_type": "code",
   "execution_count": 16,
   "id": "e246add9",
   "metadata": {},
   "outputs": [
    {
     "data": {
      "text/plain": [
       "68804.28640371616"
      ]
     },
     "execution_count": 16,
     "metadata": {},
     "output_type": "execute_result"
    }
   ],
   "source": [
    "# Taking the median for Average Area Income\n",
    "df[\"AAI\"].median()"
   ]
  },
  {
   "cell_type": "code",
   "execution_count": 17,
   "id": "a6f835af",
   "metadata": {},
   "outputs": [
    {
     "data": {
      "text/plain": [
       "5.970428947124802"
      ]
     },
     "execution_count": 17,
     "metadata": {},
     "output_type": "execute_result"
    }
   ],
   "source": [
    "# Taking the median for Avg. Area House Age\n",
    "df[\"AAHA\"].median()"
   ]
  },
  {
   "cell_type": "code",
   "execution_count": 18,
   "id": "405c448d",
   "metadata": {},
   "outputs": [
    {
     "data": {
      "text/plain": [
       "7.002901987201934"
      ]
     },
     "execution_count": 18,
     "metadata": {},
     "output_type": "execute_result"
    }
   ],
   "source": [
    "# Taking the median for Avg. Area Number of Rooms\n",
    "df[\"AANR\"].median()"
   ]
  },
  {
   "cell_type": "code",
   "execution_count": 19,
   "id": "4261742e",
   "metadata": {},
   "outputs": [
    {
     "data": {
      "text/plain": [
       "4.05"
      ]
     },
     "execution_count": 19,
     "metadata": {},
     "output_type": "execute_result"
    }
   ],
   "source": [
    "# Taking the median for Avg. Area Number of Bedrooms\n",
    "df[\"AANB\"].median()"
   ]
  },
  {
   "cell_type": "code",
   "execution_count": 20,
   "id": "29c6392d",
   "metadata": {},
   "outputs": [
    {
     "data": {
      "text/plain": [
       "36199.406689260555"
      ]
     },
     "execution_count": 20,
     "metadata": {},
     "output_type": "execute_result"
    }
   ],
   "source": [
    "# Taking the median for Area Population\n",
    "df[\"AP\"].median()"
   ]
  },
  {
   "cell_type": "code",
   "execution_count": 21,
   "id": "4f18b967",
   "metadata": {},
   "outputs": [
    {
     "data": {
      "text/plain": [
       "1232669.3779657914"
      ]
     },
     "execution_count": 21,
     "metadata": {},
     "output_type": "execute_result"
    }
   ],
   "source": [
    "# Taking the median for Price\n",
    "df[\"Price\"].median()"
   ]
  },
  {
   "cell_type": "markdown",
   "id": "4c219d60",
   "metadata": {},
   "source": [
    "### PERCENTILE AND QUARTILES"
   ]
  },
  {
   "cell_type": "code",
   "execution_count": 22,
   "id": "658e9470",
   "metadata": {},
   "outputs": [
    {
     "data": {
      "text/plain": [
       "68804.28640371616"
      ]
     },
     "execution_count": 22,
     "metadata": {},
     "output_type": "execute_result"
    }
   ],
   "source": [
    "# Taking the mean for Average Area Income\n",
    "df[\"AAI\"].quantile()"
   ]
  },
  {
   "cell_type": "code",
   "execution_count": 23,
   "id": "8634d121",
   "metadata": {},
   "outputs": [
    {
     "data": {
      "text/plain": [
       "5.970428947124802"
      ]
     },
     "execution_count": 23,
     "metadata": {},
     "output_type": "execute_result"
    }
   ],
   "source": [
    "# Taking the mean for Avg. Area House Age\n",
    "df[\"AAHA\"].quantile()"
   ]
  },
  {
   "cell_type": "code",
   "execution_count": 24,
   "id": "f729ec8b",
   "metadata": {},
   "outputs": [
    {
     "data": {
      "text/plain": [
       "7.002901987201934"
      ]
     },
     "execution_count": 24,
     "metadata": {},
     "output_type": "execute_result"
    }
   ],
   "source": [
    "# Taking the mean for Avg. Area Number of Rooms\n",
    "df[\"AANR\"].quantile()"
   ]
  },
  {
   "cell_type": "markdown",
   "id": "77138308",
   "metadata": {},
   "source": [
    "### MEASURES OF VARIABILITY"
   ]
  },
  {
   "cell_type": "markdown",
   "id": "010e8fae",
   "metadata": {},
   "source": [
    "#### RANGE"
   ]
  },
  {
   "cell_type": "code",
   "execution_count": 25,
   "id": "dec06bae",
   "metadata": {},
   "outputs": [],
   "source": [
    "x = df[\"AAI\"] #Average area income"
   ]
  },
  {
   "cell_type": "code",
   "execution_count": 26,
   "id": "e7899623",
   "metadata": {},
   "outputs": [
    {
     "data": {
      "text/plain": [
       "107701.74837763936"
      ]
     },
     "execution_count": 26,
     "metadata": {},
     "output_type": "execute_result"
    }
   ],
   "source": [
    "max(x)"
   ]
  },
  {
   "cell_type": "code",
   "execution_count": 27,
   "id": "7459bb2c",
   "metadata": {},
   "outputs": [
    {
     "data": {
      "text/plain": [
       "17796.631189543397"
      ]
     },
     "execution_count": 27,
     "metadata": {},
     "output_type": "execute_result"
    }
   ],
   "source": [
    "min(x)"
   ]
  },
  {
   "cell_type": "code",
   "execution_count": 28,
   "id": "79c8c44f",
   "metadata": {},
   "outputs": [
    {
     "data": {
      "text/plain": [
       "89905.11718809596"
      ]
     },
     "execution_count": 28,
     "metadata": {},
     "output_type": "execute_result"
    }
   ],
   "source": [
    "range = max(x) - min(x)\n",
    "range"
   ]
  },
  {
   "cell_type": "markdown",
   "id": "d8882be0",
   "metadata": {},
   "source": [
    "### IQR"
   ]
  },
  {
   "cell_type": "code",
   "execution_count": 29,
   "id": "68fff21d",
   "metadata": {},
   "outputs": [],
   "source": [
    "quartiles = np.quantile(x,[0.25, 0.50, 0.75])"
   ]
  },
  {
   "cell_type": "code",
   "execution_count": 30,
   "id": "efeabef0",
   "metadata": {},
   "outputs": [
    {
     "data": {
      "text/plain": [
       "array([61480.56238846, 68804.28640372, 75783.33866615])"
      ]
     },
     "execution_count": 30,
     "metadata": {},
     "output_type": "execute_result"
    }
   ],
   "source": [
    "# quartile range for the Average area income\n",
    "\n",
    "quartiles"
   ]
  },
  {
   "cell_type": "markdown",
   "id": "b9b94fbd",
   "metadata": {},
   "source": [
    "### VARIANCE"
   ]
  },
  {
   "cell_type": "code",
   "execution_count": 31,
   "id": "36b04b30",
   "metadata": {},
   "outputs": [
    {
     "data": {
      "text/plain": [
       "4915    80256.981187\n",
       "809     66556.387650\n",
       "2470    89286.083249\n",
       "3062    66854.387624\n",
       "838     62571.352863\n",
       "            ...     \n",
       "1960    58054.099478\n",
       "4447    62141.698605\n",
       "2843    64163.541805\n",
       "3216    94889.800413\n",
       "4115    70933.398805\n",
       "Name: AAI, Length: 5000, dtype: float64"
      ]
     },
     "execution_count": 31,
     "metadata": {},
     "output_type": "execute_result"
    }
   ],
   "source": [
    "x"
   ]
  },
  {
   "cell_type": "code",
   "execution_count": 32,
   "id": "fe3270de",
   "metadata": {},
   "outputs": [],
   "source": [
    "n = len(x)"
   ]
  },
  {
   "cell_type": "code",
   "execution_count": 33,
   "id": "709fc0dc",
   "metadata": {},
   "outputs": [
    {
     "data": {
      "text/plain": [
       "5000"
      ]
     },
     "execution_count": 33,
     "metadata": {},
     "output_type": "execute_result"
    }
   ],
   "source": [
    "n"
   ]
  },
  {
   "cell_type": "code",
   "execution_count": 34,
   "id": "6ca916bf",
   "metadata": {},
   "outputs": [],
   "source": [
    "mean = sum(x)/n"
   ]
  },
  {
   "cell_type": "code",
   "execution_count": 35,
   "id": "909fc532",
   "metadata": {},
   "outputs": [
    {
     "data": {
      "text/plain": [
       "68583.10898395986"
      ]
     },
     "execution_count": 35,
     "metadata": {},
     "output_type": "execute_result"
    }
   ],
   "source": [
    "mean"
   ]
  },
  {
   "cell_type": "markdown",
   "id": "bbaf0dac",
   "metadata": {},
   "source": [
    "## Using statistics library"
   ]
  },
  {
   "cell_type": "markdown",
   "id": "1353d79a",
   "metadata": {},
   "source": [
    "## VARIANCE"
   ]
  },
  {
   "cell_type": "code",
   "execution_count": 36,
   "id": "0cb86f24",
   "metadata": {
    "scrolled": true
   },
   "outputs": [
    {
     "data": {
      "text/plain": [
       "113592776.71408536"
      ]
     },
     "execution_count": 36,
     "metadata": {},
     "output_type": "execute_result"
    }
   ],
   "source": [
    "var = statistics.variance(x)\n",
    "var"
   ]
  },
  {
   "cell_type": "markdown",
   "id": "7b76a23c",
   "metadata": {},
   "source": [
    "## Standard deviation"
   ]
  },
  {
   "cell_type": "code",
   "execution_count": 37,
   "id": "fbaf7eeb",
   "metadata": {},
   "outputs": [
    {
     "data": {
      "text/plain": [
       "113592776.71408536"
      ]
     },
     "execution_count": 37,
     "metadata": {},
     "output_type": "execute_result"
    }
   ],
   "source": [
    "var"
   ]
  },
  {
   "cell_type": "code",
   "execution_count": 38,
   "id": "23ec4cde",
   "metadata": {},
   "outputs": [],
   "source": [
    "std = var ** 0.5"
   ]
  },
  {
   "cell_type": "code",
   "execution_count": 39,
   "id": "1bae819d",
   "metadata": {},
   "outputs": [
    {
     "data": {
      "text/plain": [
       "10657.99121383037"
      ]
     },
     "execution_count": 39,
     "metadata": {},
     "output_type": "execute_result"
    }
   ],
   "source": [
    "std"
   ]
  },
  {
   "attachments": {},
   "cell_type": "markdown",
   "id": "46b4fafe",
   "metadata": {},
   "source": [
    "For the median and quantile, \n",
    "\n",
    "\tAverage Area Income has an average of #68,804\n",
    "    \n",
    "\tAverage Area House Age has an average of  6\n",
    "    \n",
    "\t Average Area number of rooms  has an average of 7\n",
    "\n",
    "The Range of the Average Area income is  89, 905\n",
    "\n",
    "For the Interquartile range of the Average area Income, \n",
    "\n",
    "\t\t@0.25, we have #61,480\n",
    "        \n",
    "\t\t @0.50, we have #68,804\n",
    "         \n",
    "\t\t @0.75, we have #75783\n",
    "         \n",
    "The Variance of the data is high and the Standard deviation value is 10,657"
   ]
  },
  {
   "cell_type": "markdown",
   "id": "76480a83",
   "metadata": {},
   "source": [
    "### Visualizing Data"
   ]
  },
  {
   "cell_type": "code",
   "execution_count": 40,
   "id": "34679ad5",
   "metadata": {},
   "outputs": [],
   "source": [
    "y = df[\"AAHA\"] #Average Area House age\n",
    "z = df[\"AANR\"] # Avg. Area Number of Rooms"
   ]
  },
  {
   "cell_type": "code",
   "execution_count": 41,
   "id": "a55ff2fb",
   "metadata": {},
   "outputs": [
    {
     "data": {
      "image/png": "[encoded data removed]",
      "text/plain": [
       "<Figure size 432x288 with 1 Axes>"
      ]
     },
     "metadata": {
      "needs_background": "light"
     },
     "output_type": "display_data"
    }
   ],
   "source": [
    "fig, ax = plt.subplots()\n",
    "ax.boxplot((y,z), vert=False, showmeans=True, meanline=True,\n",
    "           labels=(\"Avg. Area House Age\", 'Avg. Area Number of Rooms'), patch_artist = True,\n",
    "           medianprops={\"linewidth\": 2, \"color\": \"green\"},\n",
    "            meanprops={\"linewidth\": 2, \"color\": \"red\"})\n",
    "plt.show()"
   ]
  },
  {
   "cell_type": "code",
   "execution_count": 42,
   "id": "98e7d99f",
   "metadata": {},
   "outputs": [
    {
     "data": {
      "image/png": "[encoded data removed]",
      "text/plain": [
       "<Figure size 432x288 with 1 Axes>"
      ]
     },
     "metadata": {
      "needs_background": "light"
     },
     "output_type": "display_data"
    }
   ],
   "source": [
    "fig, ax = plt.subplots()\n",
    "ax.boxplot((y,z), vert=True, showmeans=False,\n",
    "           labels=(\"Avg. Area House Age\", 'Avg. Area Number of Rooms'), patch_artist = True,\n",
    "           medianprops={\"linewidth\": 2, \"color\": \"green\"})\n",
    "plt.show()"
   ]
  },
  {
   "cell_type": "markdown",
   "id": "64a26c5e",
   "metadata": {},
   "source": [
    "## Barchart"
   ]
  },
  {
   "cell_type": "code",
   "execution_count": 49,
   "id": "a88e01a7",
   "metadata": {},
   "outputs": [
    {
     "data": {
      "image/png": "[encoded data removed]",
      "text/plain": [
       "<Figure size 432x288 with 1 Axes>"
      ]
     },
     "metadata": {
      "needs_background": "light"
     },
     "output_type": "display_data"
    }
   ],
   "source": [
    "fig, ax = plt.subplots()\n",
    "ax.bar(y,z)\n",
    "ax.set_xlabel(\"Avg. Area House Age\")\n",
    "ax.set_ylabel(\"Avg. Area Number of Rooms\")\n",
    "plt.show()"
   ]
  },
  {
   "cell_type": "markdown",
   "id": "ca5a4fe7",
   "metadata": {},
   "source": [
    "### SCATTERPLOT"
   ]
  },
  {
   "cell_type": "code",
   "execution_count": 50,
   "id": "2402d244",
   "metadata": {},
   "outputs": [
    {
     "data": {
      "image/png": "[encoded data removed]",
      "text/plain": [
       "<Figure size 432x288 with 1 Axes>"
      ]
     },
     "metadata": {
      "needs_background": "light"
     },
     "output_type": "display_data"
    }
   ],
   "source": [
    "fig, ax = plt.subplots()\n",
    "ax.plot(y,z, linewidth=0, marker=\"s\",label= \"Data points\")\n",
    "ax.set_xlabel(\"Avg. Area House Age\")\n",
    "ax.set_ylabel(\"Avg. Area Number of Rooms\")\n",
    "ax.legend(facecolor=\"white\")\n",
    "plt.show()"
   ]
  },
  {
   "attachments": {},
   "cell_type": "markdown",
   "id": "068a402a",
   "metadata": {},
   "source": [
    "While plotting a boxplot for Average Area House age and Average area Number of rooms, we discover outliers on the upper values above 8.5 and also some outliers in the lower values below 3\n",
    "\n",
    " The highest House prices were between #55,000 to #70,000\n",
    " \n",
    "While visualizing the dataset, the scatter plot shows that there exist some form of relationship between the average Area house Age and Average area number of rooms"
   ]
  },
  {
   "cell_type": "markdown",
   "id": "a98e5665",
   "metadata": {},
   "source": [
    "# STATISTICAL HYPOTHESIS"
   ]
  },
  {
   "cell_type": "markdown",
   "id": "4dea0479",
   "metadata": {},
   "source": [
    "In order to carry out any Machine learning Projects Probability and Statistics plays a major role.Probability deals with predicting the likelihood of future events however Statistics deals with analyse frequency of past events"
   ]
  },
  {
   "cell_type": "markdown",
   "id": "e11807c2",
   "metadata": {},
   "source": [
    "## Normality Tests\n",
    "Main obejctive of performing Normality Tests is to validate the Gaussian distribution of data."
   ]
  },
  {
   "cell_type": "markdown",
   "id": "185fba76",
   "metadata": {},
   "source": [
    "### Shapiro-Wilk Test\n",
    " Tests whether a data sample has a Gaussian distribution.\n",
    " \n",
    "\n",
    "### Hypothesis\n",
    "H0: the sample has a Gaussian distribution.\n",
    "\n",
    "H1: the sample does not have a Gaussian distribution.\n",
    "\n"
   ]
  },
  {
   "cell_type": "code",
   "execution_count": 51,
   "id": "7606eacc",
   "metadata": {},
   "outputs": [
    {
     "name": "stdout",
     "output_type": "stream",
     "text": [
      "stat=1.000, p=1.000\n",
      "Probably Gaussian\n"
     ]
    }
   ],
   "source": [
    "from scipy.stats import shapiro\n",
    "data = y #Average Area House age\n",
    "stat, p = shapiro(data)\n",
    "print('stat={0:.3f}, p={0:.3f}' .format(stat, p))\n",
    "if p > 0.05:\n",
    "    print('Probably Gaussian')\n",
    "else:\n",
    "    print('Probably not Gaussian')"
   ]
  },
  {
   "cell_type": "markdown",
   "id": "ceb8cff9",
   "metadata": {},
   "source": [
    "### D’Agostino’s K^2 Test\n",
    "\n",
    "Tests whether a data sample has a Gaussian distribution.\n",
    "\n",
    "#### Assumption\n",
    "Observations in each sample are independent and distributed identically.\n",
    "\n",
    "### Hypothesis\n",
    "H0: the sample has a Gaussian distribution.\n",
    "\n",
    "H1: the sample does not have a Gaussian distribution.\n",
    "\n"
   ]
  },
  {
   "cell_type": "code",
   "execution_count": 52,
   "id": "dcf5d275",
   "metadata": {},
   "outputs": [
    {
     "name": "stdout",
     "output_type": "stream",
     "text": [
      "stat=2.585, p=2.59\n",
      "Probably Gaussian\n"
     ]
    }
   ],
   "source": [
    "# Example of the D'Agostino's K^2 Normality Test\n",
    "from scipy.stats import normaltest\n",
    "data = z  # Avg. Area Number of Rooms\n",
    "stat, p = normaltest(data)\n",
    "print('stat={0:.3f}, p={0:.3g}'.format(stat, p))\n",
    "if p > 0.05:\n",
    "    print('Probably Gaussian')\n",
    "else:\n",
    "    print('Probably not Gaussian')"
   ]
  },
  {
   "cell_type": "markdown",
   "id": "42ff7b74",
   "metadata": {},
   "source": [
    "## Correlation Tests\n",
    "Correlation Tests are used to check the correlation between two independent features or variables.\n",
    "\n",
    "#### Pearson’s Correlation Coefficient\n",
    "Tests whether a data sample is linearly separable.\n",
    "\n",
    "### Assumption\n",
    "a) Observations in each sample are independent and distributed identically.\n",
    "b) Observations are normally distributed.\n",
    "c) Similar variance between independent variables\n",
    "\n",
    "### Hypothesis\n",
    "H0: the samples are correlated.\n",
    "\n",
    "H1: the sample does not have any correlation."
   ]
  },
  {
   "cell_type": "code",
   "execution_count": 53,
   "id": "c0df274b",
   "metadata": {},
   "outputs": [
    {
     "name": "stdout",
     "output_type": "stream",
     "text": [
      "stat=-0.009, p=-0.009\n",
      "Probably independent\n"
     ]
    }
   ],
   "source": [
    "# Example of the Pearson's Correlation test\n",
    "from scipy.stats import pearsonr\n",
    "data1 = y\n",
    "data2 = z\n",
    "stat, p = pearsonr(data1, data2)\n",
    "print('stat={0:.3f}, p={0:.3f}'.format(stat, p))\n",
    "if p > 0.05:\n",
    "    print('Probably independent')\n",
    "else:\n",
    "    print('Probably dependent')"
   ]
  },
  {
   "cell_type": "markdown",
   "id": "aa162681",
   "metadata": {},
   "source": [
    "### Spearman’s Rank Correlation\n",
    "Tests whether a data sample is montonically separable.\n",
    "#### Assumption\n",
    "a) Observations in each sample are independent and distributed identically.\n",
    "\n",
    "b) Observations in each sample are ranked .\n",
    "\n",
    "### Hypothesis\n",
    "H0: the samples are correlated.\n",
    "\n",
    "H1: the sample does not have any correlation.\n",
    "\n"
   ]
  },
  {
   "cell_type": "code",
   "execution_count": 54,
   "id": "b7d38e13",
   "metadata": {},
   "outputs": [
    {
     "name": "stdout",
     "output_type": "stream",
     "text": [
      "stat=-0.0052, p=-0.005\n",
      "Probably independent\n"
     ]
    }
   ],
   "source": [
    "# Example of the Spearman's Rank Correlation Test\n",
    "from scipy.stats import spearmanr\n",
    "data1 = y\n",
    "data2 = z\n",
    "stat, p = spearmanr(data1, data2)\n",
    "print('stat={0:.3g}, p={0:.3f}'.format(stat, p))\n",
    "if p > 0.05:\n",
    "    print('Probably independent')\n",
    "else:\n",
    "    print('Probably dependent')"
   ]
  },
  {
   "cell_type": "markdown",
   "id": "7081353d",
   "metadata": {},
   "source": [
    "### Chi-Squared Test\n",
    "Tests whether two categorical variables are related to each other.\n",
    "\n",
    "### Assumption\n",
    "a) Observations in used in contengency table are Independent.\n",
    "\n",
    "b) There are more than 25 examples in contengency table .\n",
    "\n",
    "### Hypothesis\n",
    "H0: the samples are correlated.\n",
    "\n",
    "H1: the sample does not have any correlation."
   ]
  },
  {
   "cell_type": "code",
   "execution_count": 55,
   "id": "a6c80443",
   "metadata": {},
   "outputs": [
    {
     "name": "stdout",
     "output_type": "stream",
     "text": [
      "stat=1.64e+03, p=1636.612\n",
      "Probably independent\n"
     ]
    }
   ],
   "source": [
    "# Example of the Chi-Squared Test\n",
    "from scipy.stats import chi2_contingency\n",
    "table = [x,y]\n",
    "stat, p, dof, expected = chi2_contingency(table)\n",
    "print('stat={0:.3g}, p={0:.3f}' .format(stat, p))\n",
    "if p > 0.05:\n",
    "    print('Probably independent')\n",
    "else:\n",
    "    print('Probably dependent')"
   ]
  },
  {
   "cell_type": "markdown",
   "id": "966dbb0c",
   "metadata": {},
   "source": [
    "## Parametric Statistical Hypothesis Tests"
   ]
  },
  {
   "cell_type": "markdown",
   "id": "8e5c5128",
   "metadata": {},
   "source": [
    "Statistical Test for comaparison between data samples.\n",
    "\n",
    "### Student’s t-test\n",
    "Average between two data samples are significantly different.\n",
    "\n",
    "### Assumption\n",
    "a)Each data sample's observation are independent and distributed.\n",
    "\n",
    "b)Observations are normally distributed.\n",
    "\n",
    "c)Observations have same variance between each other.\n",
    "\n",
    "### Hypothesis\n",
    "H0: the mean between two samples are equal .\n",
    "\n",
    "H1: the mean between two samples are not equal."
   ]
  },
  {
   "cell_type": "code",
   "execution_count": 56,
   "id": "bab90d8a",
   "metadata": {},
   "outputs": [
    {
     "name": "stdout",
     "output_type": "stream",
     "text": [
      "stat=-50.596, p=-50.596\n",
      "Probably different distributions\n"
     ]
    }
   ],
   "source": [
    "# Example of the Student's t-test\n",
    "from scipy.stats import ttest_ind\n",
    "data1 = y\n",
    "data2 = z\n",
    "stat, p = ttest_ind(data1, data2)\n",
    "print('stat={0:.3f}, p={0:.3f}'.format(stat, p))\n",
    "if p > 0.05:\n",
    "    print('Probably the same distribution')\n",
    "else:\n",
    "    print('Probably different distributions')"
   ]
  },
  {
   "cell_type": "markdown",
   "id": "075079b0",
   "metadata": {},
   "source": [
    "### Paired Student’s t-test\n",
    "Average between two data samples are significantly different.\n",
    "\n",
    "### Assumption\n",
    "a)Each data sample's observation are independent and distributed.\n",
    "\n",
    "b)Observations are normally distributed.\n",
    "\n",
    "c)Observations have same variance between each other.\n",
    "\n",
    "d)Observations are paired.\n",
    "\n",
    "### Hypothesis\n",
    "\n",
    "H0: the mean between two samples are equal .\n",
    "\n",
    "H1: the mean between two samples are not equal.\n",
    "\n"
   ]
  },
  {
   "cell_type": "code",
   "execution_count": 57,
   "id": "cf74f8f1",
   "metadata": {},
   "outputs": [
    {
     "name": "stdout",
     "output_type": "stream",
     "text": [
      "stat=-50.359, p=-50.359\n",
      "Probably different distributions\n"
     ]
    }
   ],
   "source": [
    "# Example of the Paired Student's t-test\n",
    "from scipy.stats import ttest_rel\n",
    "data1 = y\n",
    "data2 = z\n",
    "stat, p = ttest_rel(data1, data2)\n",
    "print('stat={0:.3f}, p={0:.3f}'.format(stat, p))\n",
    "if p > 0.05:\n",
    "    print('Probably the same distribution')\n",
    "else:\n",
    "    print('Probably different distributions')"
   ]
  },
  {
   "cell_type": "markdown",
   "id": "b4c165a9",
   "metadata": {},
   "source": [
    "# PROBABILITY"
   ]
  },
  {
   "cell_type": "markdown",
   "id": "90b88f95",
   "metadata": {},
   "source": [
    "### Basic Probability\n",
    "\n",
    "Conditional Probability - a measure of calculating a probablity of an event (A) to occur given that another event (B) has already occured.\n",
    "\n",
    "The formula for conditional probability is P(A|B) = P(A ∩ B) / P(B)\n",
    "\n",
    "P(A|B) = probability of A occurring, given B occurs\n",
    "\n",
    "P(A ∩ B) = probability of both A and B occurring\n",
    "\n",
    "P(B) = probability of B occurring"
   ]
  },
  {
   "cell_type": "code",
   "execution_count": 58,
   "id": "1fa77313",
   "metadata": {},
   "outputs": [],
   "source": [
    "#loading the dataset\n",
    "\n",
    "data = pd.read_csv('test_loan.csv')"
   ]
  },
  {
   "cell_type": "code",
   "execution_count": 59,
   "id": "ab9af00a",
   "metadata": {},
   "outputs": [
    {
     "data": {
      "text/html": [
       "<div>\n",
       "<style scoped>\n",
       "    .dataframe tbody tr th:only-of-type {\n",
       "        vertical-align: middle;\n",
       "    }\n",
       "\n",
       "    .dataframe tbody tr th {\n",
       "        vertical-align: top;\n",
       "    }\n",
       "\n",
       "    .dataframe thead th {\n",
       "        text-align: right;\n",
       "    }\n",
       "</style>\n",
       "<table border=\"1\" class=\"dataframe\">\n",
       "  <thead>\n",
       "    <tr style=\"text-align: right;\">\n",
       "      <th></th>\n",
       "      <th>Loan_ID</th>\n",
       "      <th>Gender</th>\n",
       "      <th>Married</th>\n",
       "      <th>Dependents</th>\n",
       "      <th>Education</th>\n",
       "      <th>Self_Employed</th>\n",
       "      <th>ApplicantIncome</th>\n",
       "      <th>CoapplicantIncome</th>\n",
       "      <th>LoanAmount</th>\n",
       "      <th>Loan_Amount_Term</th>\n",
       "      <th>Credit_History</th>\n",
       "      <th>Property_Area</th>\n",
       "      <th>Loan_status</th>\n",
       "    </tr>\n",
       "  </thead>\n",
       "  <tbody>\n",
       "    <tr>\n",
       "      <th>0</th>\n",
       "      <td>LP001015</td>\n",
       "      <td>Male</td>\n",
       "      <td>Yes</td>\n",
       "      <td>0</td>\n",
       "      <td>Graduate</td>\n",
       "      <td>No</td>\n",
       "      <td>5720</td>\n",
       "      <td>0</td>\n",
       "      <td>110.0</td>\n",
       "      <td>360.0</td>\n",
       "      <td>1.0</td>\n",
       "      <td>Urban</td>\n",
       "      <td>N</td>\n",
       "    </tr>\n",
       "    <tr>\n",
       "      <th>1</th>\n",
       "      <td>LP001022</td>\n",
       "      <td>Male</td>\n",
       "      <td>Yes</td>\n",
       "      <td>1</td>\n",
       "      <td>Graduate</td>\n",
       "      <td>No</td>\n",
       "      <td>3076</td>\n",
       "      <td>1500</td>\n",
       "      <td>126.0</td>\n",
       "      <td>360.0</td>\n",
       "      <td>1.0</td>\n",
       "      <td>Urban</td>\n",
       "      <td>Y</td>\n",
       "    </tr>\n",
       "    <tr>\n",
       "      <th>2</th>\n",
       "      <td>LP001031</td>\n",
       "      <td>Male</td>\n",
       "      <td>Yes</td>\n",
       "      <td>2</td>\n",
       "      <td>Graduate</td>\n",
       "      <td>No</td>\n",
       "      <td>5000</td>\n",
       "      <td>1800</td>\n",
       "      <td>208.0</td>\n",
       "      <td>360.0</td>\n",
       "      <td>1.0</td>\n",
       "      <td>Urban</td>\n",
       "      <td>Y</td>\n",
       "    </tr>\n",
       "    <tr>\n",
       "      <th>3</th>\n",
       "      <td>LP001035</td>\n",
       "      <td>Male</td>\n",
       "      <td>Yes</td>\n",
       "      <td>2</td>\n",
       "      <td>Graduate</td>\n",
       "      <td>No</td>\n",
       "      <td>2340</td>\n",
       "      <td>2546</td>\n",
       "      <td>100.0</td>\n",
       "      <td>360.0</td>\n",
       "      <td>NaN</td>\n",
       "      <td>Urban</td>\n",
       "      <td>Y</td>\n",
       "    </tr>\n",
       "    <tr>\n",
       "      <th>4</th>\n",
       "      <td>LP001051</td>\n",
       "      <td>Male</td>\n",
       "      <td>No</td>\n",
       "      <td>0</td>\n",
       "      <td>Not Graduate</td>\n",
       "      <td>No</td>\n",
       "      <td>3276</td>\n",
       "      <td>0</td>\n",
       "      <td>78.0</td>\n",
       "      <td>360.0</td>\n",
       "      <td>1.0</td>\n",
       "      <td>Urban</td>\n",
       "      <td>Y</td>\n",
       "    </tr>\n",
       "    <tr>\n",
       "      <th>...</th>\n",
       "      <td>...</td>\n",
       "      <td>...</td>\n",
       "      <td>...</td>\n",
       "      <td>...</td>\n",
       "      <td>...</td>\n",
       "      <td>...</td>\n",
       "      <td>...</td>\n",
       "      <td>...</td>\n",
       "      <td>...</td>\n",
       "      <td>...</td>\n",
       "      <td>...</td>\n",
       "      <td>...</td>\n",
       "      <td>...</td>\n",
       "    </tr>\n",
       "    <tr>\n",
       "      <th>362</th>\n",
       "      <td>LP002971</td>\n",
       "      <td>Male</td>\n",
       "      <td>Yes</td>\n",
       "      <td>3+</td>\n",
       "      <td>Not Graduate</td>\n",
       "      <td>Yes</td>\n",
       "      <td>4009</td>\n",
       "      <td>1777</td>\n",
       "      <td>113.0</td>\n",
       "      <td>360.0</td>\n",
       "      <td>1.0</td>\n",
       "      <td>Urban</td>\n",
       "      <td>N</td>\n",
       "    </tr>\n",
       "    <tr>\n",
       "      <th>363</th>\n",
       "      <td>LP002975</td>\n",
       "      <td>Male</td>\n",
       "      <td>Yes</td>\n",
       "      <td>0</td>\n",
       "      <td>Graduate</td>\n",
       "      <td>No</td>\n",
       "      <td>4158</td>\n",
       "      <td>709</td>\n",
       "      <td>115.0</td>\n",
       "      <td>360.0</td>\n",
       "      <td>1.0</td>\n",
       "      <td>Urban</td>\n",
       "      <td>N</td>\n",
       "    </tr>\n",
       "    <tr>\n",
       "      <th>364</th>\n",
       "      <td>LP002980</td>\n",
       "      <td>Male</td>\n",
       "      <td>No</td>\n",
       "      <td>0</td>\n",
       "      <td>Graduate</td>\n",
       "      <td>No</td>\n",
       "      <td>3250</td>\n",
       "      <td>1993</td>\n",
       "      <td>126.0</td>\n",
       "      <td>360.0</td>\n",
       "      <td>NaN</td>\n",
       "      <td>Semiurban</td>\n",
       "      <td>N</td>\n",
       "    </tr>\n",
       "    <tr>\n",
       "      <th>365</th>\n",
       "      <td>LP002986</td>\n",
       "      <td>Male</td>\n",
       "      <td>Yes</td>\n",
       "      <td>0</td>\n",
       "      <td>Graduate</td>\n",
       "      <td>No</td>\n",
       "      <td>5000</td>\n",
       "      <td>2393</td>\n",
       "      <td>158.0</td>\n",
       "      <td>360.0</td>\n",
       "      <td>1.0</td>\n",
       "      <td>Rural</td>\n",
       "      <td>N</td>\n",
       "    </tr>\n",
       "    <tr>\n",
       "      <th>366</th>\n",
       "      <td>LP002989</td>\n",
       "      <td>Male</td>\n",
       "      <td>No</td>\n",
       "      <td>0</td>\n",
       "      <td>Graduate</td>\n",
       "      <td>Yes</td>\n",
       "      <td>9200</td>\n",
       "      <td>0</td>\n",
       "      <td>98.0</td>\n",
       "      <td>180.0</td>\n",
       "      <td>1.0</td>\n",
       "      <td>Rural</td>\n",
       "      <td>N</td>\n",
       "    </tr>\n",
       "  </tbody>\n",
       "</table>\n",
       "<p>367 rows × 13 columns</p>\n",
       "</div>"
      ],
      "text/plain": [
       "      Loan_ID Gender Married Dependents     Education Self_Employed  \\\n",
       "0    LP001015   Male     Yes          0      Graduate            No   \n",
       "1    LP001022   Male     Yes          1      Graduate            No   \n",
       "2    LP001031   Male     Yes          2      Graduate            No   \n",
       "3    LP001035   Male     Yes          2      Graduate            No   \n",
       "4    LP001051   Male      No          0  Not Graduate            No   \n",
       "..        ...    ...     ...        ...           ...           ...   \n",
       "362  LP002971   Male     Yes         3+  Not Graduate           Yes   \n",
       "363  LP002975   Male     Yes          0      Graduate            No   \n",
       "364  LP002980   Male      No          0      Graduate            No   \n",
       "365  LP002986   Male     Yes          0      Graduate            No   \n",
       "366  LP002989   Male      No          0      Graduate           Yes   \n",
       "\n",
       "     ApplicantIncome  CoapplicantIncome  LoanAmount  Loan_Amount_Term  \\\n",
       "0               5720                  0       110.0             360.0   \n",
       "1               3076               1500       126.0             360.0   \n",
       "2               5000               1800       208.0             360.0   \n",
       "3               2340               2546       100.0             360.0   \n",
       "4               3276                  0        78.0             360.0   \n",
       "..               ...                ...         ...               ...   \n",
       "362             4009               1777       113.0             360.0   \n",
       "363             4158                709       115.0             360.0   \n",
       "364             3250               1993       126.0             360.0   \n",
       "365             5000               2393       158.0             360.0   \n",
       "366             9200                  0        98.0             180.0   \n",
       "\n",
       "     Credit_History Property_Area Loan_status  \n",
       "0               1.0         Urban           N  \n",
       "1               1.0         Urban           Y  \n",
       "2               1.0         Urban           Y  \n",
       "3               NaN         Urban           Y  \n",
       "4               1.0         Urban           Y  \n",
       "..              ...           ...         ...  \n",
       "362             1.0         Urban           N  \n",
       "363             1.0         Urban           N  \n",
       "364             NaN     Semiurban           N  \n",
       "365             1.0         Rural           N  \n",
       "366             1.0         Rural           N  \n",
       "\n",
       "[367 rows x 13 columns]"
      ]
     },
     "execution_count": 59,
     "metadata": {},
     "output_type": "execute_result"
    }
   ],
   "source": [
    "data"
   ]
  },
  {
   "cell_type": "code",
   "execution_count": 60,
   "id": "2da0eaef",
   "metadata": {},
   "outputs": [
    {
     "name": "stdout",
     "output_type": "stream",
     "text": [
      "       ApplicantIncome  CoapplicantIncome  LoanAmount  Loan_Amount_Term  \\\n",
      "count       367.000000         367.000000  362.000000        361.000000   \n",
      "mean       4805.599455        1569.577657  136.132597        342.537396   \n",
      "std        4910.685399        2334.232099   61.366652         65.156643   \n",
      "min           0.000000           0.000000   28.000000          6.000000   \n",
      "25%        2864.000000           0.000000  100.250000        360.000000   \n",
      "50%        3786.000000        1025.000000  125.000000        360.000000   \n",
      "75%        5060.000000        2430.500000  158.000000        360.000000   \n",
      "max       72529.000000       24000.000000  550.000000        480.000000   \n",
      "\n",
      "       Credit_History  \n",
      "count      338.000000  \n",
      "mean         0.825444  \n",
      "std          0.380150  \n",
      "min          0.000000  \n",
      "25%          1.000000  \n",
      "50%          1.000000  \n",
      "75%          1.000000  \n",
      "max          1.000000  \n",
      "<class 'pandas.core.frame.DataFrame'>\n",
      "RangeIndex: 367 entries, 0 to 366\n",
      "Data columns (total 13 columns):\n",
      " #   Column             Non-Null Count  Dtype  \n",
      "---  ------             --------------  -----  \n",
      " 0   Loan_ID            367 non-null    object \n",
      " 1   Gender             356 non-null    object \n",
      " 2   Married            367 non-null    object \n",
      " 3   Dependents         357 non-null    object \n",
      " 4   Education          367 non-null    object \n",
      " 5   Self_Employed      344 non-null    object \n",
      " 6   ApplicantIncome    367 non-null    int64  \n",
      " 7   CoapplicantIncome  367 non-null    int64  \n",
      " 8   LoanAmount         362 non-null    float64\n",
      " 9   Loan_Amount_Term   361 non-null    float64\n",
      " 10  Credit_History     338 non-null    float64\n",
      " 11  Property_Area      367 non-null    object \n",
      " 12  Loan_status        367 non-null    object \n",
      "dtypes: float64(3), int64(2), object(8)\n",
      "memory usage: 37.4+ KB\n",
      "None\n",
      "Loan_ID               0\n",
      "Gender               11\n",
      "Married               0\n",
      "Dependents           10\n",
      "Education             0\n",
      "Self_Employed        23\n",
      "ApplicantIncome       0\n",
      "CoapplicantIncome     0\n",
      "LoanAmount            5\n",
      "Loan_Amount_Term      6\n",
      "Credit_History       29\n",
      "Property_Area         0\n",
      "Loan_status           0\n",
      "dtype: int64\n"
     ]
    }
   ],
   "source": [
    "print(data.describe())\n",
    "print(data.info())  #data has both categorical as well as numerical columns\n",
    "print(data.isnull().sum())"
   ]
  },
  {
   "cell_type": "code",
   "execution_count": 61,
   "id": "fb7f1415",
   "metadata": {},
   "outputs": [
    {
     "data": {
      "text/plain": [
       "(array([ 46., 160., 100.,  37.,   8.,   6.,   2.,   1.,   1.,   1.]),\n",
       " array([ 28. ,  80.2, 132.4, 184.6, 236.8, 289. , 341.2, 393.4, 445.6,\n",
       "        497.8, 550. ]),\n",
       " <BarContainer object of 10 artists>)"
      ]
     },
     "execution_count": 61,
     "metadata": {},
     "output_type": "execute_result"
    },
    {
     "data": {
      "image/png": "[encoded data removed]",
      "text/plain": [
       "<Figure size 432x288 with 1 Axes>"
      ]
     },
     "metadata": {
      "needs_background": "light"
     },
     "output_type": "display_data"
    }
   ],
   "source": [
    "plt.hist(data['LoanAmount'],10)"
   ]
  },
  {
   "cell_type": "code",
   "execution_count": 62,
   "id": "0e41f1e6",
   "metadata": {},
   "outputs": [
    {
     "data": {
      "text/plain": [
       "367"
      ]
     },
     "execution_count": 62,
     "metadata": {},
     "output_type": "execute_result"
    }
   ],
   "source": [
    "# Conditional probability with python example\n",
    "\n",
    "len(data)   #checking the number of records"
   ]
  },
  {
   "cell_type": "code",
   "execution_count": 63,
   "id": "796879eb",
   "metadata": {},
   "outputs": [
    {
     "data": {
      "text/html": [
       "<div>\n",
       "<style scoped>\n",
       "    .dataframe tbody tr th:only-of-type {\n",
       "        vertical-align: middle;\n",
       "    }\n",
       "\n",
       "    .dataframe tbody tr th {\n",
       "        vertical-align: top;\n",
       "    }\n",
       "\n",
       "    .dataframe thead th {\n",
       "        text-align: right;\n",
       "    }\n",
       "</style>\n",
       "<table border=\"1\" class=\"dataframe\">\n",
       "  <thead>\n",
       "    <tr style=\"text-align: right;\">\n",
       "      <th>Loan_status</th>\n",
       "      <th>N</th>\n",
       "      <th>Y</th>\n",
       "      <th>All</th>\n",
       "    </tr>\n",
       "    <tr>\n",
       "      <th>Credit_History</th>\n",
       "      <th></th>\n",
       "      <th></th>\n",
       "      <th></th>\n",
       "    </tr>\n",
       "  </thead>\n",
       "  <tbody>\n",
       "    <tr>\n",
       "      <th>0.0</th>\n",
       "      <td>19</td>\n",
       "      <td>40</td>\n",
       "      <td>59</td>\n",
       "    </tr>\n",
       "    <tr>\n",
       "      <th>1.0</th>\n",
       "      <td>123</td>\n",
       "      <td>156</td>\n",
       "      <td>279</td>\n",
       "    </tr>\n",
       "    <tr>\n",
       "      <th>All</th>\n",
       "      <td>142</td>\n",
       "      <td>196</td>\n",
       "      <td>338</td>\n",
       "    </tr>\n",
       "  </tbody>\n",
       "</table>\n",
       "</div>"
      ],
      "text/plain": [
       "Loan_status       N    Y  All\n",
       "Credit_History               \n",
       "0.0              19   40   59\n",
       "1.0             123  156  279\n",
       "All             142  196  338"
      ]
     },
     "execution_count": 63,
     "metadata": {},
     "output_type": "execute_result"
    }
   ],
   "source": [
    "# We’re going to calculate the probability a Loan status, \n",
    "# given that the Credithistory.\n",
    "\n",
    "pd.crosstab(data['Credit_History'], data['Loan_status'], margins = True)"
   ]
  },
  {
   "cell_type": "markdown",
   "id": "1b3e92bb",
   "metadata": {},
   "source": [
    "P(A): Loan has been approved\n",
    "\n",
    "P(B): Credit history is good (1)\n",
    "\n",
    "P(A|B): Getting loan approval provided that credit history is good\n",
    "\n",
    "According to the formula,\n",
    "\n",
    "P(A) = 40 + 156 / (19 + 40 + 123 + 156) = 0.57988\n",
    "\n",
    "P(B) = 123 + 156 / (19 + 40 + 123 + 156) = 0.8254437\n",
    "\n",
    "P(A ∩ B) = 156/(19 + 40 + 123 + 156) = 0.46153846\n",
    "\n",
    "P(A|B) = 0.46153846/0.8254437 = 0.559139"
   ]
  },
  {
   "cell_type": "markdown",
   "id": "16262d50",
   "metadata": {},
   "source": [
    "The probability of getting a loan approval, given that the credit history is good is 56%"
   ]
  },
  {
   "cell_type": "code",
   "execution_count": 64,
   "id": "9d7eb3da",
   "metadata": {},
   "outputs": [
    {
     "data": {
      "text/plain": [
       "nan"
      ]
     },
     "execution_count": 64,
     "metadata": {},
     "output_type": "execute_result"
    }
   ],
   "source": [
    "p = np.percentile(data['LoanAmount'], 50)\n",
    "p"
   ]
  },
  {
   "cell_type": "code",
   "execution_count": 65,
   "id": "98b26fae",
   "metadata": {
    "scrolled": false
   },
   "outputs": [
    {
     "name": "stderr",
     "output_type": "stream",
     "text": [
      "C:\\Users\\ITD\\anaconda3\\lib\\site-packages\\seaborn\\distributions.py:2557: FutureWarning: `distplot` is a deprecated function and will be removed in a future version. Please adapt your code to use either `displot` (a figure-level function with similar flexibility) or `histplot` (an axes-level function for histograms).\n",
      "  warnings.warn(msg, FutureWarning)\n"
     ]
    },
    {
     "data": {
      "image/png": "[encoded data removed]",
      "text/plain": [
       "<Figure size 432x288 with 1 Axes>"
      ]
     },
     "metadata": {
      "needs_background": "light"
     },
     "output_type": "display_data"
    }
   ],
   "source": [
    "# Implementing different distributions in Python\n",
    "\n",
    "# 1. Normal Distribution in Python\n",
    "\n",
    "from numpy import random\n",
    "\n",
    "normaldis = random.normal(loc = 3, scale = 2, size = (len(data)))\n",
    "\n",
    "\n",
    "sns.distplot(normaldis, hist = True)\n",
    "plt.show()"
   ]
  },
  {
   "cell_type": "markdown",
   "id": "5d3049ac",
   "metadata": {},
   "source": [
    "This distribution shows to be a normal distribution"
   ]
  },
  {
   "cell_type": "code",
   "execution_count": 66,
   "id": "919ee94a",
   "metadata": {
    "scrolled": true
   },
   "outputs": [
    {
     "name": "stderr",
     "output_type": "stream",
     "text": [
      "C:\\Users\\ITD\\anaconda3\\lib\\site-packages\\seaborn\\distributions.py:2557: FutureWarning: `distplot` is a deprecated function and will be removed in a future version. Please adapt your code to use either `displot` (a figure-level function with similar flexibility) or `histplot` (an axes-level function for histograms).\n",
      "  warnings.warn(msg, FutureWarning)\n"
     ]
    },
    {
     "data": {
      "image/png": "[encoded data removed]",
      "text/plain": [
       "<Figure size 432x288 with 1 Axes>"
      ]
     },
     "metadata": {
      "needs_background": "light"
     },
     "output_type": "display_data"
    }
   ],
   "source": [
    "# 2. Uniform Distribution\n",
    "\n",
    "sns.distplot(random.uniform(0.1, 10, size=len(data)), hist=True)\n",
    "\n",
    "plt.show()"
   ]
  },
  {
   "cell_type": "markdown",
   "id": "d0a27451",
   "metadata": {},
   "source": [
    "This distribution shows to be a normal distribution"
   ]
  },
  {
   "cell_type": "code",
   "execution_count": 67,
   "id": "8e6fcb71",
   "metadata": {},
   "outputs": [
    {
     "name": "stderr",
     "output_type": "stream",
     "text": [
      "C:\\Users\\ITD\\anaconda3\\lib\\site-packages\\seaborn\\distributions.py:2557: FutureWarning: `distplot` is a deprecated function and will be removed in a future version. Please adapt your code to use either `displot` (a figure-level function with similar flexibility) or `kdeplot` (an axes-level function for kernel density plots).\n",
      "  warnings.warn(msg, FutureWarning)\n"
     ]
    },
    {
     "data": {
      "image/png": "[encoded data removed]",
      "text/plain": [
       "<Figure size 432x288 with 1 Axes>"
      ]
     },
     "metadata": {
      "needs_background": "light"
     },
     "output_type": "display_data"
    }
   ],
   "source": [
    "# 3. Expotential\n",
    "\n",
    "sns.distplot(random.exponential(size=len(data)), hist=False)\n",
    "\n",
    "plt.show()"
   ]
  },
  {
   "cell_type": "markdown",
   "id": "b099009b",
   "metadata": {},
   "source": [
    "This distribution shows to be a skewed to the right"
   ]
  },
  {
   "cell_type": "code",
   "execution_count": 68,
   "id": "12739eff",
   "metadata": {},
   "outputs": [
    {
     "name": "stderr",
     "output_type": "stream",
     "text": [
      "C:\\Users\\ITD\\anaconda3\\lib\\site-packages\\seaborn\\distributions.py:2557: FutureWarning: `distplot` is a deprecated function and will be removed in a future version. Please adapt your code to use either `displot` (a figure-level function with similar flexibility) or `kdeplot` (an axes-level function for kernel density plots).\n",
      "  warnings.warn(msg, FutureWarning)\n"
     ]
    },
    {
     "data": {
      "image/png": "[encoded data removed]",
      "text/plain": [
       "<Figure size 432x288 with 1 Axes>"
      ]
     },
     "metadata": {
      "needs_background": "light"
     },
     "output_type": "display_data"
    }
   ],
   "source": [
    "# 4. Logistic Distribution\n",
    "\n",
    "sns.distplot(random.logistic(2, 1, size=len(data)), hist=False)\n",
    "\n",
    "plt.show()"
   ]
  },
  {
   "cell_type": "markdown",
   "id": "e8beae51",
   "metadata": {},
   "source": [
    "This distribution shows to be a skewed to the left"
   ]
  },
  {
   "cell_type": "code",
   "execution_count": 69,
   "id": "fd4536f7",
   "metadata": {},
   "outputs": [
    {
     "name": "stderr",
     "output_type": "stream",
     "text": [
      "C:\\Users\\ITD\\anaconda3\\lib\\site-packages\\seaborn\\distributions.py:2557: FutureWarning: `distplot` is a deprecated function and will be removed in a future version. Please adapt your code to use either `displot` (a figure-level function with similar flexibility) or `histplot` (an axes-level function for histograms).\n",
      "  warnings.warn(msg, FutureWarning)\n"
     ]
    },
    {
     "data": {
      "image/png": "[encoded data removed]",
      "text/plain": [
       "<Figure size 432x288 with 1 Axes>"
      ]
     },
     "metadata": {
      "needs_background": "light"
     },
     "output_type": "display_data"
    }
   ],
   "source": [
    "# 3. Poisson Distribution\n",
    "\n",
    "sns.distplot(random.poisson(lam=2, size=len(data)), kde=True)\n",
    "\n",
    "plt.show()"
   ]
  },
  {
   "cell_type": "markdown",
   "id": "00cc0ef2",
   "metadata": {},
   "source": [
    "This distribution shows to be a skewed to the right"
   ]
  },
  {
   "cell_type": "markdown",
   "id": "20a783cd",
   "metadata": {},
   "source": [
    "# REFERENCES"
   ]
  },
  {
   "cell_type": "markdown",
   "id": "3adea29d",
   "metadata": {},
   "source": [
    "https://www.kaggle.com/datasets/altruistdelhite04/loan-prediction-problem-dataset\n",
    "\n",
    "\n",
    "https://www.kaggle.com/datasets/vedavyasv/usa-housing\n",
    "\n",
    "\n",
    "https://towardsdatascience.com/hypothesis-testing-with-python-step-by-step-hands-on-tutorial-with-practical-examples-e805975ea96e\n",
    "\n",
    "\n",
    "https://www.section.io/engineering-education/statistical-hypothesis-testing-python-implementation/\n",
    "\n",
    "\n",
    "https://github.com/kartikdube/Probability-and-Statistics-in-Data-Science-Using-Python"
   ]
  },
  {
   "cell_type": "code",
   "execution_count": null,
   "id": "ea8770cc",
   "metadata": {},
   "outputs": [],
   "source": []
  }
 ],
 "metadata": {
  "kernelspec": {
   "display_name": "Python 3",
   "language": "python",
   "name": "python3"
  },
  "language_info": {
   "codemirror_mode": {
    "name": "ipython",
    "version": 3
   },
   "file_extension": ".py",
   "mimetype": "text/x-python",
   "name": "python",
   "nbconvert_exporter": "python",
   "pygments_lexer": "ipython3",
   "version": "3.8.8"
  }
 },
 "nbformat": 4,
 "nbformat_minor": 5
}
